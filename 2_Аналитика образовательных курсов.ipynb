{
 "cells": [
  {
   "cell_type": "markdown",
   "metadata": {},
   "source": [
    "# Финальный проект karpov_courses. "
   ]
  },
  {
   "cell_type": "code",
   "execution_count": 36,
   "metadata": {},
   "outputs": [],
   "source": [
    "# Импорт библиотек\n",
    "import pandahouse as ph\n",
    "import pandas as pd\n",
    "import numpy as np\n",
    "import seaborn as sns\n",
    "import matplotlib.pyplot as plt\n",
    "plt.style.use('ggplot')\n",
    "from tqdm.auto import tqdm\n",
    "from scipy.stats import norm\n",
    "from scipy.stats import chisquare\n",
    "import scipy\n",
    "from scipy import stats"
   ]
  },
  {
   "cell_type": "markdown",
   "metadata": {},
   "source": [
    "# Задание 1. A/B–тестирование"
   ]
  },
  {
   "cell_type": "markdown",
   "metadata": {},
   "source": [
    "### 1.1 Условие\n",
    "\n",
    "Одной из основных задач аналитика в нашей команде является корректное проведение экспериментов. Для этого мы применяем метод A/B–тестирования. В ходе тестирования одной гипотезы целевой группе была предложена новая механика оплаты услуг на сайте, у контрольной группы оставалась базовая механика. В качестве задания Вам необходимо проанализировать итоги эксперимента и сделать вывод, стоит ли запускать новую механику оплаты на всех пользователей."
   ]
  },
  {
   "cell_type": "markdown",
   "metadata": {},
   "source": [
    "### 1.2 Входные данные\n",
    "\n",
    "В качестве входных данных Вы имеете 4 csv-файла:\n",
    "\n",
    "<strong>groups.csv</strong> - файл с информацией о принадлежности пользователя к контрольной или экспериментальной группе (А – контроль, B – целевая группа).<br>\n",
    "<strong>groups_add.csv</strong> - дополнительный файл с пользователями, который вам прислали спустя 2 дня после передачи данных.<br>\n",
    "<strong>active_studs.csv</strong> - файл с информацией о пользователях, которые зашли на платформу в дни проведения эксперимента.<br>\n",
    "<strong>checks.csv</strong> - файл с информацией об оплатах пользователей в дни проведения эксперимента. "
   ]
  },
  {
   "cell_type": "markdown",
   "metadata": {},
   "source": [
    "### 1.3 Вопросы\n",
    "\n",
    "1. На какие метрики Вы смотрите в ходе анализа и почему?<br>\n",
    "2. Имеются ли различия в показателях и с чем они могут быть связаны?<br>\n",
    "3. Являются ли эти различия статистически значимыми?<br>\n",
    "4. Стоит ли запускать новую механику на всех пользователей?"
   ]
  },
  {
   "cell_type": "markdown",
   "metadata": {},
   "source": [
    "## Предварительный анализ и предобработка данных"
   ]
  },
  {
   "cell_type": "code",
   "execution_count": 37,
   "metadata": {},
   "outputs": [
    {
     "name": "stdout",
     "output_type": "stream",
     "text": [
      "(74484, 2)\n"
     ]
    },
    {
     "data": {
      "text/html": [
       "<div>\n",
       "<style scoped>\n",
       "    .dataframe tbody tr th:only-of-type {\n",
       "        vertical-align: middle;\n",
       "    }\n",
       "\n",
       "    .dataframe tbody tr th {\n",
       "        vertical-align: top;\n",
       "    }\n",
       "\n",
       "    .dataframe thead th {\n",
       "        text-align: right;\n",
       "    }\n",
       "</style>\n",
       "<table border=\"1\" class=\"dataframe\">\n",
       "  <thead>\n",
       "    <tr style=\"text-align: right;\">\n",
       "      <th></th>\n",
       "      <th>id</th>\n",
       "      <th>grp</th>\n",
       "    </tr>\n",
       "  </thead>\n",
       "  <tbody>\n",
       "    <tr>\n",
       "      <th>0</th>\n",
       "      <td>1489</td>\n",
       "      <td>B</td>\n",
       "    </tr>\n",
       "    <tr>\n",
       "      <th>1</th>\n",
       "      <td>1627</td>\n",
       "      <td>A</td>\n",
       "    </tr>\n",
       "  </tbody>\n",
       "</table>\n",
       "</div>"
      ],
      "text/plain": [
       "     id grp\n",
       "0  1489   B\n",
       "1  1627   A"
      ]
     },
     "execution_count": 37,
     "metadata": {},
     "output_type": "execute_result"
    }
   ],
   "source": [
    "# Скачаем датасет groups\n",
    "url_groups = 'https://disk.yandex.ru/d/LIE6fUfbD7belQ'\n",
    "groups = pd.read_csv(f'https://getfile.dokpub.com/yandex/get/{url_groups}', sep=';')\n",
    "print(groups.shape)\n",
    "groups.head(2)"
   ]
  },
  {
   "cell_type": "code",
   "execution_count": 38,
   "metadata": {},
   "outputs": [
    {
     "name": "stdout",
     "output_type": "stream",
     "text": [
      "(92, 2)\n"
     ]
    },
    {
     "data": {
      "text/html": [
       "<div>\n",
       "<style scoped>\n",
       "    .dataframe tbody tr th:only-of-type {\n",
       "        vertical-align: middle;\n",
       "    }\n",
       "\n",
       "    .dataframe tbody tr th {\n",
       "        vertical-align: top;\n",
       "    }\n",
       "\n",
       "    .dataframe thead th {\n",
       "        text-align: right;\n",
       "    }\n",
       "</style>\n",
       "<table border=\"1\" class=\"dataframe\">\n",
       "  <thead>\n",
       "    <tr style=\"text-align: right;\">\n",
       "      <th></th>\n",
       "      <th>id</th>\n",
       "      <th>grp</th>\n",
       "    </tr>\n",
       "  </thead>\n",
       "  <tbody>\n",
       "    <tr>\n",
       "      <th>0</th>\n",
       "      <td>5694584</td>\n",
       "      <td>B</td>\n",
       "    </tr>\n",
       "    <tr>\n",
       "      <th>1</th>\n",
       "      <td>5694830</td>\n",
       "      <td>B</td>\n",
       "    </tr>\n",
       "  </tbody>\n",
       "</table>\n",
       "</div>"
      ],
      "text/plain": [
       "        id grp\n",
       "0  5694584   B\n",
       "1  5694830   B"
      ]
     },
     "execution_count": 38,
     "metadata": {},
     "output_type": "execute_result"
    }
   ],
   "source": [
    "# Скачаем датасет groups_add\n",
    "url_groups_add = 'https://disk.yandex.ru/d/qgQpmgvjemOJFw'\n",
    "groups_add = pd.read_csv(f'https://getfile.dokpub.com/yandex/get/{url_groups_add}')\n",
    "print(groups_add.shape)\n",
    "groups_add.head(2)"
   ]
  },
  {
   "cell_type": "code",
   "execution_count": 39,
   "metadata": {},
   "outputs": [
    {
     "name": "stdout",
     "output_type": "stream",
     "text": [
      "(8341, 1)\n"
     ]
    },
    {
     "data": {
      "text/html": [
       "<div>\n",
       "<style scoped>\n",
       "    .dataframe tbody tr th:only-of-type {\n",
       "        vertical-align: middle;\n",
       "    }\n",
       "\n",
       "    .dataframe tbody tr th {\n",
       "        vertical-align: top;\n",
       "    }\n",
       "\n",
       "    .dataframe thead th {\n",
       "        text-align: right;\n",
       "    }\n",
       "</style>\n",
       "<table border=\"1\" class=\"dataframe\">\n",
       "  <thead>\n",
       "    <tr style=\"text-align: right;\">\n",
       "      <th></th>\n",
       "      <th>student_id</th>\n",
       "    </tr>\n",
       "  </thead>\n",
       "  <tbody>\n",
       "    <tr>\n",
       "      <th>0</th>\n",
       "      <td>581585</td>\n",
       "    </tr>\n",
       "    <tr>\n",
       "      <th>1</th>\n",
       "      <td>5723133</td>\n",
       "    </tr>\n",
       "  </tbody>\n",
       "</table>\n",
       "</div>"
      ],
      "text/plain": [
       "   student_id\n",
       "0      581585\n",
       "1     5723133"
      ]
     },
     "execution_count": 39,
     "metadata": {},
     "output_type": "execute_result"
    }
   ],
   "source": [
    "# Скачаем датасет active_studs\n",
    "url_active_studs = 'https://disk.yandex.ru/d/9ExyNormZbelyg'\n",
    "active_studs = pd.read_csv(f'https://getfile.dokpub.com/yandex/get/{url_active_studs}')\n",
    "print(active_studs.shape)\n",
    "active_studs.head(2)"
   ]
  },
  {
   "cell_type": "code",
   "execution_count": 40,
   "metadata": {},
   "outputs": [
    {
     "name": "stdout",
     "output_type": "stream",
     "text": [
      "(541, 2)\n"
     ]
    },
    {
     "data": {
      "text/html": [
       "<div>\n",
       "<style scoped>\n",
       "    .dataframe tbody tr th:only-of-type {\n",
       "        vertical-align: middle;\n",
       "    }\n",
       "\n",
       "    .dataframe tbody tr th {\n",
       "        vertical-align: top;\n",
       "    }\n",
       "\n",
       "    .dataframe thead th {\n",
       "        text-align: right;\n",
       "    }\n",
       "</style>\n",
       "<table border=\"1\" class=\"dataframe\">\n",
       "  <thead>\n",
       "    <tr style=\"text-align: right;\">\n",
       "      <th></th>\n",
       "      <th>student_id</th>\n",
       "      <th>rev</th>\n",
       "    </tr>\n",
       "  </thead>\n",
       "  <tbody>\n",
       "    <tr>\n",
       "      <th>0</th>\n",
       "      <td>1627</td>\n",
       "      <td>990.0</td>\n",
       "    </tr>\n",
       "    <tr>\n",
       "      <th>1</th>\n",
       "      <td>3185</td>\n",
       "      <td>690.0</td>\n",
       "    </tr>\n",
       "  </tbody>\n",
       "</table>\n",
       "</div>"
      ],
      "text/plain": [
       "   student_id    rev\n",
       "0        1627  990.0\n",
       "1        3185  690.0"
      ]
     },
     "execution_count": 40,
     "metadata": {},
     "output_type": "execute_result"
    }
   ],
   "source": [
    "# Скачаем датасет checks\n",
    "url_checks = 'https://disk.yandex.ru/d/H-GJTo5Mx4Ld-g'\n",
    "checks = pd.read_csv(f'https://getfile.dokpub.com/yandex/get/{url_checks}', sep=';')\n",
    "print(checks.shape)\n",
    "checks.head(2)"
   ]
  },
  {
   "cell_type": "markdown",
   "metadata": {},
   "source": [
    "#### Создадим объединенный датафрейм\n",
    "\n",
    "Шаг 1. Создадим df_g, где объединим данные датафреймов groups и groups_add<br>\n",
    "Шаг 2. Создадим df_c, где объединим данные датафреймов active_studs и checks. В результате предварительного анализа выявлено, что часть пользователей из датафрейма checks не содержится в датафрейме active_studs. Это может происходить, как минимум, по двум причинам:\n",
    "1. Ошибочно, по какой-то причине датафрейм active_studs не содержит часть данных о пользователях\n",
    "2. Пользователи, которые содержатся в датафрейме checks и не содержатся в датафрейме active_studs, не совершали оплаты в дни проведения эксперимента.\n",
    "\n",
    "Так как у нас нет информации о времени совершения оплаты, будем считать, что у нас ситуация, описанная в пункте 1 выше, чтобы для анализа иметь больше исходных данных.\n",
    "\n",
    "Шаг 3. Создадим объединенный датафрейм с данными по ID пользователей (student_id),  которые зашли на платформу в дни проведения эксперимента, информацией о принадлежности пользователя к контрольной или экспериментальной группе (grp) и информацией об оплатах пользователей в дни проведения эксперимента (rev). "
   ]
  },
  {
   "cell_type": "code",
   "execution_count": 41,
   "metadata": {},
   "outputs": [
    {
     "name": "stdout",
     "output_type": "stream",
     "text": [
      "(8490, 3)\n"
     ]
    },
    {
     "data": {
      "text/html": [
       "<div>\n",
       "<style scoped>\n",
       "    .dataframe tbody tr th:only-of-type {\n",
       "        vertical-align: middle;\n",
       "    }\n",
       "\n",
       "    .dataframe tbody tr th {\n",
       "        vertical-align: top;\n",
       "    }\n",
       "\n",
       "    .dataframe thead th {\n",
       "        text-align: right;\n",
       "    }\n",
       "</style>\n",
       "<table border=\"1\" class=\"dataframe\">\n",
       "  <thead>\n",
       "    <tr style=\"text-align: right;\">\n",
       "      <th></th>\n",
       "      <th>student_id</th>\n",
       "      <th>Revenue</th>\n",
       "      <th>grp</th>\n",
       "    </tr>\n",
       "  </thead>\n",
       "  <tbody>\n",
       "    <tr>\n",
       "      <th>0</th>\n",
       "      <td>581585</td>\n",
       "      <td>0.0</td>\n",
       "      <td>A</td>\n",
       "    </tr>\n",
       "    <tr>\n",
       "      <th>1</th>\n",
       "      <td>5723133</td>\n",
       "      <td>0.0</td>\n",
       "      <td>A</td>\n",
       "    </tr>\n",
       "  </tbody>\n",
       "</table>\n",
       "</div>"
      ],
      "text/plain": [
       "   student_id  Revenue grp\n",
       "0      581585      0.0   A\n",
       "1     5723133      0.0   A"
      ]
     },
     "execution_count": 41,
     "metadata": {},
     "output_type": "execute_result"
    }
   ],
   "source": [
    "df_g = groups.append(groups_add, ignore_index=True).rename(columns={'id':'student_id'})\n",
    "df_c = active_studs.merge(checks, how='outer', on='student_id').fillna(0)\n",
    "df = df_c.merge(df_g, how='left', on='student_id').fillna(0).rename(columns={'rev':'Revenue'})\n",
    "print(df.shape)\n",
    "df.head(2)"
   ]
  },
  {
   "cell_type": "markdown",
   "metadata": {},
   "source": [
    "### 1. На какие метрики Вы смотрите в ходе анализа и почему?<br>"
   ]
  },
  {
   "cell_type": "markdown",
   "metadata": {},
   "source": [
    "Чтобы правильно выбрать метрики для анализа, необходимо понимать, в чем заключается (на что влияет?) тестируемая доработка. Из условия задачи это не совсем понятно (\"изменилась механика оплаты услуг на сайте\"). Предположу, что изменения касались \"удобства оплаты\", т.е. с помощью нового механизма/дизайна пользователю будет быстрее и удобнее совершить покупку, и условий оплаты услуг (возможно, упрощена процедура возврата денег и т.д.). Иными словами, предположу, что цель доработки - сделать так, чтобы пользователю было удобнее купить и чтобы пользователь не боялся купить больше (более дорогие товары или большее количество товаров). Исходя из целей доработки, в ходе анализа будем смотреть на метрику ARPPU (средний чек пользователей, которые совершили покупку) и метрику CR (конвертация пользователей, постетивших сайт, в покупку)."
   ]
  },
  {
   "cell_type": "code",
   "execution_count": 42,
   "metadata": {},
   "outputs": [
    {
     "data": {
      "text/html": [
       "<div>\n",
       "<style scoped>\n",
       "    .dataframe tbody tr th:only-of-type {\n",
       "        vertical-align: middle;\n",
       "    }\n",
       "\n",
       "    .dataframe tbody tr th {\n",
       "        vertical-align: top;\n",
       "    }\n",
       "\n",
       "    .dataframe thead th {\n",
       "        text-align: right;\n",
       "    }\n",
       "</style>\n",
       "<table border=\"1\" class=\"dataframe\">\n",
       "  <thead>\n",
       "    <tr style=\"text-align: right;\">\n",
       "      <th></th>\n",
       "      <th>grp</th>\n",
       "      <th>student_id</th>\n",
       "      <th>Revenue</th>\n",
       "      <th>Paying_users</th>\n",
       "      <th>Total_users</th>\n",
       "    </tr>\n",
       "  </thead>\n",
       "  <tbody>\n",
       "    <tr>\n",
       "      <th>0</th>\n",
       "      <td>A</td>\n",
       "      <td>275727655</td>\n",
       "      <td>92096.0000</td>\n",
       "      <td>107</td>\n",
       "      <td>1567</td>\n",
       "    </tr>\n",
       "    <tr>\n",
       "      <th>1</th>\n",
       "      <td>B</td>\n",
       "      <td>1084763905</td>\n",
       "      <td>481230.0036</td>\n",
       "      <td>434</td>\n",
       "      <td>6923</td>\n",
       "    </tr>\n",
       "  </tbody>\n",
       "</table>\n",
       "</div>"
      ],
      "text/plain": [
       "  grp  student_id      Revenue  Paying_users  Total_users\n",
       "0   A   275727655   92096.0000           107         1567\n",
       "1   B  1084763905  481230.0036           434         6923"
      ]
     },
     "execution_count": 42,
     "metadata": {},
     "output_type": "execute_result"
    }
   ],
   "source": [
    "# Подготовим вспомогательный датафрейм df_1 для расчета ARPPU и CR\n",
    "df_1 = df.query('Revenue>0').groupby('grp', as_index=False).sum()\\\n",
    "        .assign(Paying_users=df.query('Revenue>0').groupby('grp', as_index=False).count()['Revenue'])\\\n",
    "        .assign(Total_users=df.groupby('grp', as_index=False).count()['student_id'])\n",
    "df_1"
   ]
  },
  {
   "cell_type": "code",
   "execution_count": 43,
   "metadata": {},
   "outputs": [
    {
     "data": {
      "text/html": [
       "<div>\n",
       "<style scoped>\n",
       "    .dataframe tbody tr th:only-of-type {\n",
       "        vertical-align: middle;\n",
       "    }\n",
       "\n",
       "    .dataframe tbody tr th {\n",
       "        vertical-align: top;\n",
       "    }\n",
       "\n",
       "    .dataframe thead th {\n",
       "        text-align: right;\n",
       "    }\n",
       "</style>\n",
       "<table border=\"1\" class=\"dataframe\">\n",
       "  <thead>\n",
       "    <tr style=\"text-align: right;\">\n",
       "      <th></th>\n",
       "      <th>grp</th>\n",
       "      <th>ARPPU</th>\n",
       "      <th>CR</th>\n",
       "    </tr>\n",
       "  </thead>\n",
       "  <tbody>\n",
       "    <tr>\n",
       "      <th>0</th>\n",
       "      <td>A</td>\n",
       "      <td>860.71</td>\n",
       "      <td>0.068</td>\n",
       "    </tr>\n",
       "    <tr>\n",
       "      <th>1</th>\n",
       "      <td>B</td>\n",
       "      <td>1108.82</td>\n",
       "      <td>0.063</td>\n",
       "    </tr>\n",
       "  </tbody>\n",
       "</table>\n",
       "</div>"
      ],
      "text/plain": [
       "  grp    ARPPU     CR\n",
       "0   A   860.71  0.068\n",
       "1   B  1108.82  0.063"
      ]
     },
     "execution_count": 43,
     "metadata": {},
     "output_type": "execute_result"
    }
   ],
   "source": [
    "# Рассчитаем метрики\n",
    "df_2 = df_1\\\n",
    "    .assign(ARPPU=(df_1['Revenue']/df_1['Paying_users']).round(2))\\\n",
    "    .assign(CR=(df_1['Paying_users']/df_1['Total_users']).round(3))\\\n",
    "    [['grp', 'ARPPU', 'CR']]\n",
    "df_2"
   ]
  },
  {
   "cell_type": "markdown",
   "metadata": {},
   "source": [
    "Визуализируем распределение данных"
   ]
  },
  {
   "cell_type": "code",
   "execution_count": 44,
   "metadata": {},
   "outputs": [
    {
     "data": {
      "text/plain": [
       "Text(0.5, 1.0, 'Revenue_control')"
      ]
     },
     "execution_count": 44,
     "metadata": {},
     "output_type": "execute_result"
    },
    {
     "data": {
      "image/png": "[encoded data removed]",
      "text/plain": [
       "<Figure size 432x288 with 1 Axes>"
      ]
     },
     "metadata": {},
     "output_type": "display_data"
    }
   ],
   "source": [
    "sns.histplot(\n",
    "    df.query('Revenue>0').query('grp==\"A\"')['Revenue'],\n",
    "    bins=50, kde=True).set_title(\"Revenue_control\")"
   ]
  },
  {
   "cell_type": "code",
   "execution_count": 45,
   "metadata": {},
   "outputs": [
    {
     "data": {
      "text/plain": [
       "Text(0.5, 1.0, 'Revenue_target')"
      ]
     },
     "execution_count": 45,
     "metadata": {},
     "output_type": "execute_result"
    },
    {
     "data": {
      "image/png": "[encoded data removed]",
      "text/plain": [
       "<Figure size 432x288 with 1 Axes>"
      ]
     },
     "metadata": {},
     "output_type": "display_data"
    }
   ],
   "source": [
    "sns.histplot(\n",
    "    df.query('Revenue>0').query('grp==\"B\"')['Revenue'],\n",
    "    bins=50, kde=True).set_title(\"Revenue_target\")"
   ]
  },
  {
   "cell_type": "markdown",
   "metadata": {},
   "source": [
    "### 2. Имеются ли различия в показателях и с чем они могут быть связаны?"
   ]
  },
  {
   "cell_type": "markdown",
   "metadata": {},
   "source": [
    "Различия метрик у целевой и контрольной группы:<br>\n",
    "ARPPU выше у целевой группы (группа B, которой была предложена новая механика оплаты). На данном этапе анализа нельзя сказать, является ли это различие статистически значимым, т.е. новая механика оплаты действительно приводит к увеличению среднего чека, либо статистически незначимым, т.е. новая механика оплаты не приводит к изменению среднего чека и полученная разница случайна. Из визуализации выше видно, что увеличение ARPPU в целевой группе обусловлено большим количеством покупкого одного курса (или курсов в одном ценовом сегменте) - около 130 человек (из 434 сделавших покупку) купили курс стоимостью ~2000. Для целей анализа предполагаю, что новый механизм оплаты стимулировал пользователей купить востребованный/интересный  дорогой образовательный курс, который они бы не решились купить при базовом механизме оплаты. Возможны другие варианты:\n",
    "* В период, когда тестировался новый механизм оплаты, проходила промоакция на какой-то определенный курс/ценовой сегмент курсов, что и вызвало повышенный спрос на курсы стоимостью ~2000;\n",
    "* Была запущена рекламная компания, которая привела к увеличению количества посетителей платформы (количество пользователей платформы целевой группы почти в 4,5 раза больше контрольной группы);\n",
    "* Период эксперимента с целевой группой выпал на \"сезон/дни\" повышенного спроса на образовательный контент.\n",
    "    \n",
    "Во всех этих случаях, проводить дальнейший анализ нет смысла, так как A/B тест спланирован некорректно, для целей дальнейшего анализа будем считать, что A/B тест спланирован корректно.\n",
    "    \n",
    "CR выше у контрольной группы (группа A, которой была предложена базовая механика оплаты). На данном этапе анализа нельзя сказать, является ли это различие статистически значимым или нет, т.е. действительно ли новая механика оплаты уменьшает конверсию в покупку или нет."
   ]
  },
  {
   "cell_type": "markdown",
   "metadata": {},
   "source": [
    "### 3. Являются ли эти различия статистически значимыми?"
   ]
  },
  {
   "cell_type": "markdown",
   "metadata": {},
   "source": [
    "Сформулируем две пары гипотез.\n",
    "\n",
    "1. Гипотезы об ARPPU:<br>\n",
    "H0_1 - в генеральной совокупности никакого различия между показателями ARPPU нет, т.е. новая механика оплаты не приводит к изменению ARPPU;<br>\n",
    "H1_1 - ARPPU в генеральной совокупности не равны (альтернативная гипотеза), т.е. новая механика оплаты приводит к изменению ARPPU;\n",
    "2. Гипотезы об CR:<br>\n",
    "H0_2- в генеральной совокупности никакого различия между показателями CR нет, т.е. новая механика оплаты не приводит к изменению CR;<br>\n",
    "H1_2 - CR в генеральной совокупности не равны (альтернативная гипотеза), т.е. новая механика оплаты приводит к изменению CR;"
   ]
  },
  {
   "cell_type": "markdown",
   "metadata": {},
   "source": [
    "#### Проверка гипотез об ARPPU\n",
    "\n",
    "Исходя из визуализации и данных выше, видно, что распределение покупок среди пользователей не является нормальным и количество наблюдений в выборках разное. Для проверки статистическйо значимости различий в показателе ARPPU применим Бутстрап"
   ]
  },
  {
   "cell_type": "markdown",
   "metadata": {},
   "source": [
    "#### Бутстрап"
   ]
  },
  {
   "cell_type": "code",
   "execution_count": 46,
   "metadata": {},
   "outputs": [],
   "source": [
    "# Объявим функцию, которая позволит проверять гипотезы с помощью бутстрапа\n",
    "\n",
    "df_A = df.query('Revenue>0').query('grp==\"A\"')['Revenue']\n",
    "df_B = df.query('Revenue>0').query('grp==\"B\"')['Revenue']\n",
    "\n",
    "def get_bootstrap(\n",
    "    data_column_1, # числовые значения первой выборки\n",
    "    data_column_2, # числовые значения второй выборки\n",
    "    boot_it = 1000, # количество бутстрэп-подвыборок\n",
    "    statistic = np.mean, # интересующая нас статистика\n",
    "    bootstrap_conf_level = 0.95 # уровень значимости\n",
    "):\n",
    "    boot_len = max(len(data_column_1), len(data_column_2))\n",
    "    boot_data = []\n",
    "    for i in tqdm(range(boot_it)): # извлекаем подвыборки\n",
    "        samples_1 = data_column_1.sample(\n",
    "            boot_len, \n",
    "            replace = True # параметр возвращения\n",
    "        ).values\n",
    "        \n",
    "        samples_2 = data_column_2.sample(\n",
    "            boot_len, \n",
    "            replace = True\n",
    "        ).values\n",
    "        \n",
    "        boot_data.append(statistic(samples_1 - samples_2)) # mean() - применяем статистику\n",
    "        \n",
    "    pd_boot_data = pd.DataFrame(boot_data)\n",
    "        \n",
    "    left_quant = (1 - bootstrap_conf_level)/2\n",
    "    right_quant = 1 - (1 - bootstrap_conf_level) / 2\n",
    "    quants = pd_boot_data.quantile([left_quant, right_quant])\n",
    "        \n",
    "    p_1 = norm.cdf(\n",
    "        x = 0, \n",
    "        loc = np.mean(boot_data), \n",
    "        scale = np.std(boot_data)\n",
    "    )\n",
    "    p_2 = norm.cdf(\n",
    "        x = 0, \n",
    "        loc = -np.mean(boot_data), \n",
    "        scale = np.std(boot_data)\n",
    "    )\n",
    "    p_value = min(p_1, p_2) * 2\n",
    "    \n",
    "    \n",
    "# Визуализация\n",
    "    _, _, bars = plt.hist(pd_boot_data[0], bins = 50)\n",
    "    for bar in bars:\n",
    "        if bar.get_x() <= quants.iloc[0][0] or bar.get_x() >= quants.iloc[1][0]:\n",
    "            bar.set_facecolor('red')\n",
    "        else: \n",
    "            bar.set_facecolor('grey')\n",
    "            bar.set_edgecolor('black')\n",
    "    \n",
    "    plt.style.use('ggplot')\n",
    "    plt.vlines(quants,ymin=0,ymax=50,linestyle='--')\n",
    "    plt.xlabel('boot_data')\n",
    "    plt.ylabel('frequency')\n",
    "    plt.title(\"Histogram of boot_data\")\n",
    "    plt.show()   \n",
    "      \n",
    "    return {\"boot_data\": boot_data, \n",
    "            \"quants\": quants, \n",
    "            \"p_value\": p_value}"
   ]
  },
  {
   "cell_type": "code",
   "execution_count": 47,
   "metadata": {},
   "outputs": [
    {
     "data": {
      "application/vnd.jupyter.widget-view+json": {
       "model_id": "1c67b278316b4d7e90028df08464ee22",
       "version_major": 2,
       "version_minor": 0
      },
      "text/plain": [
       "HBox(children=(FloatProgress(value=0.0, max=1000.0), HTML(value='')))"
      ]
     },
     "metadata": {},
     "output_type": "display_data"
    },
    {
     "name": "stdout",
     "output_type": "stream",
     "text": [
      "\n"
     ]
    },
    {
     "data": {
      "image/png": "[encoded data removed]",
      "text/plain": [
       "<Figure size 432x288 with 1 Axes>"
      ]
     },
     "metadata": {},
     "output_type": "display_data"
    }
   ],
   "source": [
    "booted_data = get_bootstrap(df_A, df_B) # в результате хранится разница двух распределений, ДИ и pvalue"
   ]
  },
  {
   "cell_type": "code",
   "execution_count": 50,
   "metadata": {},
   "outputs": [
    {
     "data": {
      "text/plain": [
       "1.2285720073164987e-06"
      ]
     },
     "execution_count": 50,
     "metadata": {},
     "output_type": "execute_result"
    }
   ],
   "source": [
    "booted_data[\"p_value\"] # альфа"
   ]
  },
  {
   "cell_type": "code",
   "execution_count": 51,
   "metadata": {},
   "outputs": [
    {
     "data": {
      "text/html": [
       "<div>\n",
       "<style scoped>\n",
       "    .dataframe tbody tr th:only-of-type {\n",
       "        vertical-align: middle;\n",
       "    }\n",
       "\n",
       "    .dataframe tbody tr th {\n",
       "        vertical-align: top;\n",
       "    }\n",
       "\n",
       "    .dataframe thead th {\n",
       "        text-align: right;\n",
       "    }\n",
       "</style>\n",
       "<table border=\"1\" class=\"dataframe\">\n",
       "  <thead>\n",
       "    <tr style=\"text-align: right;\">\n",
       "      <th></th>\n",
       "      <th>0</th>\n",
       "    </tr>\n",
       "  </thead>\n",
       "  <tbody>\n",
       "    <tr>\n",
       "      <th>0.025</th>\n",
       "      <td>-350.601738</td>\n",
       "    </tr>\n",
       "    <tr>\n",
       "      <th>0.975</th>\n",
       "      <td>-149.188546</td>\n",
       "    </tr>\n",
       "  </tbody>\n",
       "</table>\n",
       "</div>"
      ],
      "text/plain": [
       "                0\n",
       "0.025 -350.601738\n",
       "0.975 -149.188546"
      ]
     },
     "execution_count": 51,
     "metadata": {},
     "output_type": "execute_result"
    }
   ],
   "source": [
    "booted_data[\"quants\"] # ДИ"
   ]
  },
  {
   "cell_type": "markdown",
   "metadata": {},
   "source": [
    "#### Вывод:\n",
    "\n",
    "В результате бутстрап выяснилось, что ARPPU в результате внедрения нового механизма оплаты уменьшился (отклоняем нулевую гипотезу, так как p-value меньше 0.05). Результаты теста противоречат первоначальному предположению о том, что ARPPU увеличилcя, так как на рассчитанное ранее ARPPU в целевой выборке повлияли \"выбросы\"."
   ]
  },
  {
   "cell_type": "markdown",
   "metadata": {},
   "source": [
    "#### Проверка гипотез об CR\n",
    "\n",
    "Для проверки статистическйо значимости различий в показателе CR применим метод Хи-квадрат"
   ]
  },
  {
   "cell_type": "code",
   "execution_count": 52,
   "metadata": {},
   "outputs": [
    {
     "name": "stdout",
     "output_type": "stream",
     "text": [
      "p-value: 0.4778925970224768\n"
     ]
    }
   ],
   "source": [
    "# Создадим таблицу сопряженности\n",
    "table = np.array([ [df_1.query('grp==\"A\"').Total_users, df_1.query('grp==\"A\"').Paying_users],\\\n",
    "                [df_1.query('grp==\"B\"').Total_users, df_1.query('grp==\"B\"').Paying_users]  ])\n",
    "# Применим метод Хи-квадрат\n",
    "chi2, prob, df, expected = scipy.stats.chi2_contingency(table)\n",
    "# Выведем p-value\n",
    "print(\"p-value: {}\".format(prob))"
   ]
  },
  {
   "cell_type": "markdown",
   "metadata": {},
   "source": [
    "#### Вывод:\n",
    "\n",
    "В результате анализа с Хи-квадрат выяснилось, что CR в результате внедрения нового механизма оплаты не изменился (принимаем нулевую гипотезу, так как p-value больше 0.05)."
   ]
  },
  {
   "cell_type": "markdown",
   "metadata": {},
   "source": [
    "### 4. Стоит ли запускать новую механику на всех пользователей?\n",
    "\n",
    "В результате анализа было выявлено, что новый механизм оплаты не приводит к изменению показателя CR и приводит к уменьшению показателя ARPPU. Можно сделать вывод о том, что не стоит запускать новую механику на всех пользователей.\n"
   ]
  },
  {
   "cell_type": "markdown",
   "metadata": {},
   "source": [
    "# Задание 2. SQL"
   ]
  },
  {
   "cell_type": "markdown",
   "metadata": {},
   "source": [
    "## 2.1 Очень усердные ученики."
   ]
  },
  {
   "cell_type": "markdown",
   "metadata": {},
   "source": [
    "### 2.1.1 Условие\n",
    "\n",
    "Образовательные курсы состоят из различных уроков, каждый из которых состоит из нескольких маленьких заданий. Каждое такое маленькое задание называется \"горошиной\".\n",
    "\n",
    "Назовём очень усердным учеником того пользователя, который хотя бы раз за текущий месяц правильно решил 20 горошин."
   ]
  },
  {
   "cell_type": "markdown",
   "metadata": {},
   "source": [
    "### 2.1.2 Задача\n",
    "\n",
    "Дана таблица <strong>default.peas</strong>:\n",
    "\n",
    "<strong>st_id</strong> - ID ученика (тип - INT)<br>\n",
    "<strong>timest</strong> - Время решения карточки (тип - timestamp)<br>\n",
    "<strong>correct</strong> - Правильно ли решена горошина? (тип - bool)<br>\n",
    "<strong>subject</strong> - Дисциплина, в которой находится горошина? (тип - text)<br>\n",
    "\n",
    "Необходимо написать оптимальный запрос, который даст информацию о количестве очень усердных студентов.\n",
    "\n",
    "NB! Под очень усердным студентом мы понимаем студента, который правильно решил 20 задач за текущий месяц."
   ]
  },
  {
   "cell_type": "code",
   "execution_count": 53,
   "metadata": {},
   "outputs": [],
   "source": [
    "# Cоздадим словарь connection с нужными параметрами для подключения к ClickHouse через pandahouse\n",
    "connection_default = {'host': 'http://clickhouse.beslan.pro:8080',\\\n",
    "                      'database':'default',\\\n",
    "                      'user':'student',\\\n",
    "                      'password':'dpo_python_2020' }"
   ]
  },
  {
   "cell_type": "markdown",
   "metadata": {},
   "source": [
    "#### Подход к решению:\n",
    "\n",
    "1. Так как в задании просят подсчитать количество студентов за текущий месяц, то из первоначальной базы данных нам нужно отобрать записи за текущий (последний) месяц (в предоставленной базе есть данные только за 1 месяц, запрос составляется с учетом того, что данные могут быть за несколько месяцев). В запросе q_1 добавим к исходным данным \"Окно\" с последним (текущим) месяцем - current_month.\n",
    "2. В запросе q_2 отберем данные из запроса q_1 за последний месяц и подсчитаем количество правильно решенных горошин по студентам и оставим только тех, у кого количество правильно решенных горошин больше или равно 20.\n",
    "3. Подсчитаем количество студентов из запроса q_2"
   ]
  },
  {
   "cell_type": "code",
   "execution_count": 54,
   "metadata": {},
   "outputs": [
    {
     "name": "stdout",
     "output_type": "stream",
     "text": [
      "Количество очень усердных студентов: 136\n"
     ]
    }
   ],
   "source": [
    "# Создадим запрос\n",
    "query = '''\n",
    "    SELECT COUNT( DISTINCT st_id) as answer\n",
    "    FROM\n",
    "    \n",
    "    (SELECT\n",
    "        st_id,\n",
    "        SUM(correct) as correct_tasks\n",
    "    FROM\n",
    "\n",
    "        (SELECT\n",
    "            st_id,\n",
    "            correct,\n",
    "            toStartOfMonth(timest) as month,\n",
    "            MAX(toStartOfMonth(timest)) OVER() AS current_month\n",
    "        FROM\n",
    "            default.peas) as q_1\n",
    "\n",
    "    WHERE\n",
    "        month=current_month\n",
    "    GROUP BY\n",
    "        st_id\n",
    "    HAVING\n",
    "        correct_tasks >= 20) as q_2               \n",
    "'''\n",
    "# Запишем результат запроса в пандасовский датафрейм\n",
    "df_sql_1 = ph.read_clickhouse(query=query, connection=connection_default)\n",
    "\n",
    "print(\"Количество очень усердных студентов: {}\".format(df_sql_1['answer'][0]))"
   ]
  },
  {
   "cell_type": "markdown",
   "metadata": {},
   "source": [
    "## 2.2 Оптимизация воронки"
   ]
  },
  {
   "cell_type": "markdown",
   "metadata": {},
   "source": [
    "### 2.2.1 Условие\n",
    "\n",
    "Образовательная платформа предлагает пройти студентам курсы по модели trial: студент может решить бесплатно лишь 30 горошин в день. Для неограниченного количества заданий в определенной дисциплине студенту необходимо приобрести полный доступ. Команда провела эксперимент, где был протестирован новый экран оплаты."
   ]
  },
  {
   "cell_type": "markdown",
   "metadata": {},
   "source": [
    "### 2.2.2 Задача\n",
    "Дана таблицы: <strong>default.peas</strong> (см. выше), <strong>default.studs</strong>:"
   ]
  },
  {
   "cell_type": "markdown",
   "metadata": {},
   "source": [
    "<strong>st_id</strong> - ID ученика (тип - INT)<br>\n",
    "<strong>test_grp</strong> - Метка ученика в данном эксперименте (тип - text)<br>\n",
    "\n",
    "и <strong>default.final_project_check</strong>:\n",
    "\n",
    "\n",
    "<strong>st_id</strong> - ID ученика (тип - INT)<br>\n",
    "<strong>sale_time</strong> - Время покупки (тип - timestamp)<br>\n",
    "<strong>money</strong> - Цена, по которой приобрели данный курс? (тип - int)<br>\n",
    "<strong>subject</strong> - Дисциплина, на которую приобрели полный доступ? (тип - text)<br>\n",
    "\n"
   ]
  },
  {
   "cell_type": "markdown",
   "metadata": {},
   "source": [
    "Необходимо в одном запросе выгрузить следующую информацию о группах пользователей:\n",
    "\n",
    "ARPU<br>\n",
    "ARPAU - ARPU по активным пользователям<br>\n",
    "CR в покупку<br> \n",
    "СR активного пользователя в покупку<br> \n",
    "CR пользователя из активности по математике (subject = ’math’) в покупку курса по математике<br>\n",
    "\n",
    "ARPU считается относительно всех пользователей, попавших в группы.\n",
    "\n",
    "Активным считается пользователь, за все время решивший больше 10 задач правильно в любых дисциплинах.\n",
    "\n",
    "Активным по математике считается пользователь, за все время решивший 2 или больше задач правильно по математике."
   ]
  },
  {
   "cell_type": "markdown",
   "metadata": {},
   "source": [
    "#### Подход к решению:\n",
    "\n",
    "1. Шаг 1:<br>\n",
    "1.1. Создадим вспомогательный подзапрос <strong>q_1</strong> из таблицы <strong>default.peas</strong> с данными по ID пользователя (st_id), дисциплинам (subject) и количеству правильно решенных горошин в целом по дисциплине (correct) и по математике (Math_correct);<br>\n",
    "1.2. Создадим вспомогательный запрос <strong>Peas</strong> из подзапроса <strong>q_1</strong> с данными по ID пользователя (st_id) и инфо, явлется ли этот пользователь активным (Active) и является ли этот пользователь активным по математике (Active_math).<br>\n",
    "2. Шаг 2. Создадим вспомогательный запрос <strong>Check</strong> из таблицы <strong>default.final_project_check</strong> с данными по ID пользователя (st_id), выручке в разрезе пользователей (revenue) и выручке от продажи курсов по математике в разрезе пользователей (Math_revenue).<br>\n",
    "3. Шаг 3:<br>\n",
    "3.1. Создадим вспомогательный подзапрос <strong>q_3</strong>, объединив данные таблицы <strong>default.studs</strong>, запросов <strong>Peas</strong> и <strong>Check</strong> с данными по ID пользователя (st_id), группе пользователя (test_grp), инфо, явлется ли этот пользователь активным (Active) и является ли этот пользователь активным по математике (Active_math), выручке в разрезе пользователей (revenue), инфо, явлется ли этот пользователь сконвертировавшимся в покупку (conversion_to_purchase) и явлется ли этот пользователь сконвертировавшимся в покупку курса по математике (conversion_to_math_purchase);<br>\n",
    "3.2. На основе вспомогательного подзапроса <strong>q_3</strong> рассчитаем все необходимые метрики."
   ]
  },
  {
   "cell_type": "code",
   "execution_count": 55,
   "metadata": {},
   "outputs": [
    {
     "name": "stdout",
     "output_type": "stream",
     "text": [
      "Ответ:\n"
     ]
    },
    {
     "data": {
      "text/html": [
       "<div>\n",
       "<style scoped>\n",
       "    .dataframe tbody tr th:only-of-type {\n",
       "        vertical-align: middle;\n",
       "    }\n",
       "\n",
       "    .dataframe tbody tr th {\n",
       "        vertical-align: top;\n",
       "    }\n",
       "\n",
       "    .dataframe thead th {\n",
       "        text-align: right;\n",
       "    }\n",
       "</style>\n",
       "<table border=\"1\" class=\"dataframe\">\n",
       "  <thead>\n",
       "    <tr style=\"text-align: right;\">\n",
       "      <th></th>\n",
       "      <th>test_grp</th>\n",
       "      <th>ARPU</th>\n",
       "      <th>ARPAU</th>\n",
       "      <th>CR</th>\n",
       "      <th>CR_from_Active</th>\n",
       "      <th>CR_from_Active_math</th>\n",
       "    </tr>\n",
       "  </thead>\n",
       "  <tbody>\n",
       "    <tr>\n",
       "      <th>0</th>\n",
       "      <td>control</td>\n",
       "      <td>4540.98</td>\n",
       "      <td>10393.70</td>\n",
       "      <td>0.05</td>\n",
       "      <td>0.11</td>\n",
       "      <td>0.06</td>\n",
       "    </tr>\n",
       "    <tr>\n",
       "      <th>1</th>\n",
       "      <td>pilot</td>\n",
       "      <td>11508.47</td>\n",
       "      <td>29739.58</td>\n",
       "      <td>0.11</td>\n",
       "      <td>0.26</td>\n",
       "      <td>0.10</td>\n",
       "    </tr>\n",
       "  </tbody>\n",
       "</table>\n",
       "</div>"
      ],
      "text/plain": [
       "  test_grp      ARPU     ARPAU    CR  CR_from_Active  CR_from_Active_math\n",
       "0  control   4540.98  10393.70  0.05            0.11                 0.06\n",
       "1    pilot  11508.47  29739.58  0.11            0.26                 0.10"
      ]
     },
     "execution_count": 55,
     "metadata": {},
     "output_type": "execute_result"
    }
   ],
   "source": [
    "# Создадим запрос\n",
    "query = '''\n",
    "\n",
    "WITH\n",
    "\n",
    "-- Шаг 1. Создадим вспомогательный запрос с данными по ID пользователя и инфо, явлется ли этот пользователь активным и является ли этот пользователь активным по математике\n",
    "\n",
    "Peas AS\n",
    "\n",
    "(SELECT\n",
    "    st_id,\n",
    "    IF(SUM(correct)>10,1,0) as Active, -- Поле, где 1 - это активный пользователь и 0 - не активный пользователь\n",
    "    IF(SUM(Math_correct)>=2,1,0) as Active_math -- Поле, где 1 - это активный пользователь по математике и 0 - не активный пользователь по математике\n",
    "FROM \n",
    "\n",
    "(\n",
    "-- Создадим вспомогательный подзапрос с данными по ID пользователя, дисциплинам и количеству правильно решенных горошин в целом по дисциплине и по математике\n",
    "    SELECT\n",
    "            st_id,\n",
    "            SUM(correct) as correct, -- Кол-во правильно решенных горошин в разрезе дисциплин и пользователей\n",
    "            subject,\n",
    "            (IF(subject='Math',1,0)*correct) as Math_correct -- Кол-во правильно решенных \"горошин\" по математике\n",
    "    FROM\n",
    "        default.peas\n",
    "    GROUP BY\n",
    "        st_id,\n",
    "        subject           ) as q_1\n",
    "        \n",
    "GROUP BY st_id ),\n",
    "\n",
    "-------------------------------------------------------------------------------------------------------------------------------------------------------------------------------------------------------------\n",
    "\n",
    "-- Шаг 2. Создадим вспомогательный запрос с данными по ID пользователя, выручке в разрезе пользователей и выручке от продажи курсов по математике в разрезе пользователей   \n",
    "   \n",
    "Check AS   \n",
    "   (SELECT\n",
    "            st_id,\n",
    "            SUM(money) as revenue, -- Выручка в разрезе пользователей\n",
    "            SUMIf(money, subject = 'Math') as Math_revenue  -- Выручка в разрезе пользователей от продажи курсов по математике\n",
    "            \n",
    "    FROM\n",
    "        default.final_project_check\n",
    "    GROUP BY\n",
    "        st_id)\n",
    "-------------------------------------------------------------------------------------------------------------------------------------------------------------------------------------------------------------        \n",
    "-- Шаг 3\n",
    "\n",
    "SELECT\n",
    "    test_grp,\n",
    "    ROUND(SUM(revenue)/COUNT(st_id),2) as ARPU,\n",
    "    ROUND(SUM(revenue*Active)/SUM(Active),2) as ARPAU,\n",
    "    ROUND(SUM(conversion_to_purchase)/COUNT(st_id),2) as CR,\n",
    "    ROUND(SUM(conversion_to_purchase*Active)/SUM(Active),2) as CR_from_Active,\n",
    "    ROUND(SUM(Active_math*conversion_to_math_purchase)/SUM(Active_math),2) as CR_from_Active_math\n",
    "    \n",
    "FROM       \n",
    "        (SELECT\n",
    "            s.st_id as st_id,\n",
    "            s.test_grp as test_grp,\n",
    "            p.Active as Active,\n",
    "            p.Active_math as Active_math,\n",
    "            c.revenue as revenue,\n",
    "            IF(revenue>0,1,0) as conversion_to_purchase,\n",
    "            IF(Math_revenue>0,1,0) as conversion_to_math_purchase\n",
    "        FROM\n",
    "           default.studs as s \n",
    "        LEFT JOIN\n",
    "            Peas as p\n",
    "        ON\n",
    "           s.st_id = p.st_id \n",
    "        LEFT JOIN\n",
    "            Check as c\n",
    "        ON\n",
    "           s.st_id = c.st_id ) as q_3\n",
    "GROUP BY\n",
    "    test_grp\n",
    "       \n",
    "'''\n",
    "df_sql_2 = ph.read_clickhouse(query=query, connection=connection_default)\n",
    "print(\"Ответ:\")\n",
    "df_sql_2"
   ]
  },
  {
   "cell_type": "markdown",
   "metadata": {},
   "source": [
    "# Задание 3. Python"
   ]
  },
  {
   "cell_type": "markdown",
   "metadata": {},
   "source": [
    "## 3.1 Задача\n",
    "\n",
    "1. Реализуйте функцию, которая будет автоматически подгружать информацию из дополнительного файла groups_add.csv (заголовки могут отличаться) и на основании дополнительных параметров пересчитывать метрики.\n",
    "2. Реализуйте функцию, которая будет строить графики по получаемым метрикам."
   ]
  },
  {
   "cell_type": "markdown",
   "metadata": {},
   "source": [
    "### 1. Реализуйте функцию, которая будет автоматически подгружать информацию из дополнительного файла groups_add.csv (заголовки могут отличаться) и на основании дополнительных параметров пересчитывать метрики."
   ]
  },
  {
   "cell_type": "code",
   "execution_count": 56,
   "metadata": {},
   "outputs": [],
   "source": [
    "# Создадим функцию\n",
    "def metrics_calc(url):\n",
    "    # Скачиваем исходные датасеты, по условию функци ядолжна подгружать дополнительные данные из файла groups_add.csv,\n",
    "    #поэтому ссылку на него мы сделаем в качестве параметра функции\n",
    "    groups = pd.read_csv(f'https://getfile.dokpub.com/yandex/get/https://disk.yandex.ru/d/LIE6fUfbD7belQ', sep=';')\n",
    "    groups_add = pd.read_csv(f'https://getfile.dokpub.com/yandex/get/{url}')\n",
    "    active_studs = pd.read_csv(f'https://getfile.dokpub.com/yandex/get/https://disk.yandex.ru/d/9ExyNormZbelyg')\n",
    "    checks = pd.read_csv(f'https://getfile.dokpub.com/yandex/get/https://disk.yandex.ru/d/H-GJTo5Mx4Ld-g', sep=';')\n",
    "    # Создадим объединенный датафрейм\n",
    "    df_g = groups.append(groups_add, ignore_index=True).rename(columns={'id':'student_id'})\n",
    "    df_c = active_studs.merge(checks, how='outer', on='student_id').fillna(0)\n",
    "    df = df_c.merge(df_g, how='left', on='student_id').fillna(0).rename(columns={'rev':'Revenue'})\n",
    "    # Создадим вспомогательный датафрейм для расчета метрик\n",
    "    df_1 = df.query('Revenue>0').groupby('grp', as_index=False).sum()\\\n",
    "        .assign(Paying_users=df.query('Revenue>0').groupby('grp', as_index=False).count()['Revenue'])\\\n",
    "        .assign(Total_users=df.groupby('grp', as_index=False).count()['student_id'])\n",
    "    # Рассчитаем метрики\n",
    "    df_2 = df_1\\\n",
    "        .assign(ARPPU=(df_1['Revenue']/df_1['Paying_users']).round(2))\\\n",
    "        .assign(CR=(df_1['Paying_users']/df_1['Total_users']).round(3))\\\n",
    "        [['grp', 'ARPPU', 'CR']]\n",
    "    return df_2\n",
    "    "
   ]
  },
  {
   "cell_type": "code",
   "execution_count": 57,
   "metadata": {},
   "outputs": [
    {
     "data": {
      "text/html": [
       "<div>\n",
       "<style scoped>\n",
       "    .dataframe tbody tr th:only-of-type {\n",
       "        vertical-align: middle;\n",
       "    }\n",
       "\n",
       "    .dataframe tbody tr th {\n",
       "        vertical-align: top;\n",
       "    }\n",
       "\n",
       "    .dataframe thead th {\n",
       "        text-align: right;\n",
       "    }\n",
       "</style>\n",
       "<table border=\"1\" class=\"dataframe\">\n",
       "  <thead>\n",
       "    <tr style=\"text-align: right;\">\n",
       "      <th></th>\n",
       "      <th>grp</th>\n",
       "      <th>ARPPU</th>\n",
       "      <th>CR</th>\n",
       "    </tr>\n",
       "  </thead>\n",
       "  <tbody>\n",
       "    <tr>\n",
       "      <th>0</th>\n",
       "      <td>A</td>\n",
       "      <td>860.71</td>\n",
       "      <td>0.068</td>\n",
       "    </tr>\n",
       "    <tr>\n",
       "      <th>1</th>\n",
       "      <td>B</td>\n",
       "      <td>1108.82</td>\n",
       "      <td>0.063</td>\n",
       "    </tr>\n",
       "  </tbody>\n",
       "</table>\n",
       "</div>"
      ],
      "text/plain": [
       "  grp    ARPPU     CR\n",
       "0   A   860.71  0.068\n",
       "1   B  1108.82  0.063"
      ]
     },
     "execution_count": 57,
     "metadata": {},
     "output_type": "execute_result"
    }
   ],
   "source": [
    "# Передадим в функцию адрес дополнительного файла\n",
    "metrics = metrics_calc('https://disk.yandex.ru/d/qgQpmgvjemOJFw')\n",
    "metrics"
   ]
  },
  {
   "cell_type": "markdown",
   "metadata": {},
   "source": [
    "### 2. Реализуйте функцию, которая будет строить графики по получаемым метрикам"
   ]
  },
  {
   "cell_type": "code",
   "execution_count": 58,
   "metadata": {},
   "outputs": [],
   "source": [
    "# Создадим функцию\n",
    "def visualization(metrics_data):\n",
    "    fig, ax = plt.subplots(1, 2)\n",
    "    sns.barplot(ax=ax[1], data = metrics_data, x = 'grp', y = 'ARPPU', color = 'royalblue')\\\n",
    "                .set(xlabel='Groups', ylabel='', title = 'ARPPU')\n",
    "    sns.barplot(ax=ax[0], data = metrics_data, x = 'grp', y = 'CR', color = 'royalblue')\\\n",
    "                .set(xlabel='Groups', ylabel='', title = 'CR')\n",
    "    sns.despine()"
   ]
  },
  {
   "cell_type": "code",
   "execution_count": 59,
   "metadata": {},
   "outputs": [
    {
     "data": {
      "image/png": "[encoded data removed]",
      "text/plain": [
       "<Figure size 432x288 with 2 Axes>"
      ]
     },
     "metadata": {},
     "output_type": "display_data"
    }
   ],
   "source": [
    "# Передадим в функцию рассчитанные ранее метрики\n",
    "visualization(metrics)"
   ]
  },
  {
   "cell_type": "code",
   "execution_count": null,
   "metadata": {},
   "outputs": [],
   "source": []
  }
 ],
 "metadata": {
  "kernelspec": {
   "display_name": "Python 3",
   "language": "python",
   "name": "python3"
  },
  "language_info": {
   "codemirror_mode": {
    "name": "ipython",
    "version": 3
   },
   "file_extension": ".py",
   "mimetype": "text/x-python",
   "name": "python",
   "nbconvert_exporter": "python",
   "pygments_lexer": "ipython3",
   "version": "3.7.3"
  }
 },
 "nbformat": 4,
 "nbformat_minor": 4
}
